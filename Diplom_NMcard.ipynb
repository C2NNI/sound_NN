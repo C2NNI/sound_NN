{
 "cells": [
  {
   "cell_type": "code",
   "execution_count": 1,
   "id": "41a3d5dd",
   "metadata": {},
   "outputs": [
    {
     "name": "stdout",
     "output_type": "stream",
     "text": [
      "WARNING:tensorflow:From a:\\Python\\new_anaconda\\Lib\\site-packages\\keras\\src\\losses.py:2976: The name tf.losses.sparse_softmax_cross_entropy is deprecated. Please use tf.compat.v1.losses.sparse_softmax_cross_entropy instead.\n",
      "\n"
     ]
    }
   ],
   "source": [
    "import tensorflow as tf\n",
    "from tensorflow import keras\n",
    "from tensorflow.keras.preprocessing import image_dataset_from_directory\n",
    "from tensorflow.keras.models import Sequential\n",
    "from tensorflow.keras.layers import Dense, Dropout, Activation, Flatten\n",
    "from tensorflow.keras.layers import Conv2D, MaxPooling2D\n",
    "#from tensorflow.keras.layers import Input\n",
    "from tensorflow.keras.layers import InputLayer"
   ]
  },
  {
   "cell_type": "code",
   "execution_count": 2,
   "id": "5a14059b",
   "metadata": {},
   "outputs": [
    {
     "name": "stdout",
     "output_type": "stream",
     "text": [
      "Found 1117 files belonging to 2 classes.\n",
      "Using 950 files for training.\n"
     ]
    }
   ],
   "source": [
    "data_train = image_dataset_from_directory('A:/train/train_sound',\n",
    "                                             subset='training',\n",
    "                                             seed=27,\n",
    "                                             batch_size=100,\n",
    "                                             validation_split=0.15,\n",
    "                                             image_size=(90, 3),\n",
    "                                             color_mode = 'grayscale')"
   ]
  },
  {
   "cell_type": "code",
   "execution_count": 3,
   "id": "6fc29756",
   "metadata": {},
   "outputs": [
    {
     "name": "stdout",
     "output_type": "stream",
     "text": [
      "Found 1117 files belonging to 2 classes.\n",
      "Using 167 files for validation.\n"
     ]
    }
   ],
   "source": [
    "data_validation = image_dataset_from_directory('A:/train/train_sound',\n",
    "                                             subset='validation',\n",
    "                                             seed=27,\n",
    "                                             batch_size=100,\n",
    "                                             validation_split=0.15,\n",
    "                                             image_size=(90, 3),\n",
    "                                             color_mode = 'grayscale')"
   ]
  },
  {
   "cell_type": "code",
   "execution_count": 4,
   "id": "373d294a",
   "metadata": {},
   "outputs": [
    {
     "name": "stdout",
     "output_type": "stream",
     "text": [
      "Found 139 files belonging to 2 classes.\n"
     ]
    }
   ],
   "source": [
    "data_test = image_dataset_from_directory('A:/train/test',\n",
    "                                         batch_size=100,\n",
    "                                         image_size = (90, 3),\n",
    "                                         color_mode = 'grayscale')"
   ]
  },
  {
   "cell_type": "code",
   "execution_count": 5,
   "id": "b1da04c7",
   "metadata": {},
   "outputs": [
    {
     "name": "stdout",
     "output_type": "stream",
     "text": [
      "WARNING:tensorflow:From a:\\Python\\new_anaconda\\Lib\\site-packages\\keras\\src\\backend.py:873: The name tf.get_default_graph is deprecated. Please use tf.compat.v1.get_default_graph instead.\n",
      "\n",
      "WARNING:tensorflow:From a:\\Python\\new_anaconda\\Lib\\site-packages\\keras\\src\\layers\\pooling\\max_pooling2d.py:161: The name tf.nn.max_pool is deprecated. Please use tf.nn.max_pool2d instead.\n",
      "\n",
      "WARNING:tensorflow:Error in loading the saved optimizer state. As a result, your model is starting with a freshly initialized optimizer.\n"
     ]
    }
   ],
   "source": [
    "NM_model = tf.keras.models.load_model(\"model.h5\")"
   ]
  },
  {
   "cell_type": "code",
   "execution_count": 7,
   "id": "7e8bda8c",
   "metadata": {},
   "outputs": [
    {
     "name": "stdout",
     "output_type": "stream",
     "text": [
      "Model: \"sequential_1\"\n",
      "_________________________________________________________________\n",
      " Layer (type)                Output Shape              Param #   \n",
      "=================================================================\n",
      " conv2d_1 (Conv2D)           (None, 89, 2, 128)        640       \n",
      "                                                                 \n",
      " max_pooling2d_1 (MaxPoolin  (None, 44, 1, 128)        0         \n",
      " g2D)                                                            \n",
      "                                                                 \n",
      " dropout_1 (Dropout)         (None, 44, 1, 128)        0         \n",
      "                                                                 \n",
      " flatten_1 (Flatten)         (None, 5632)              0         \n",
      "                                                                 \n",
      " dense_1 (Dense)             (None, 128)               721024    \n",
      "                                                                 \n",
      " dense_2 (Dense)             (None, 128)               16512     \n",
      "                                                                 \n",
      " dense_3 (Dense)             (None, 6)                 774       \n",
      "                                                                 \n",
      "=================================================================\n",
      "Total params: 738950 (2.82 MB)\n",
      "Trainable params: 738950 (2.82 MB)\n",
      "Non-trainable params: 0 (0.00 Byte)\n",
      "_________________________________________________________________\n"
     ]
    }
   ],
   "source": [
    "NM_model.summary()"
   ]
  },
  {
   "cell_type": "code",
   "execution_count": 6,
   "id": "9767302c",
   "metadata": {},
   "outputs": [],
   "source": [
    "first_layers = NM_model.layers[0]\n",
    "second_layers = NM_model.layers[1]\n",
    "tri_layers = NM_model.layers[2]\n",
    "chet_layers = NM_model.layers[3]\n",
    "pyat_layers = NM_model.layers[4]\n",
    "shect_layers = NM_model.layers[5]\n",
    "semi_layers = NM_model.layers[6]"
   ]
  },
  {
   "cell_type": "code",
   "execution_count": 7,
   "id": "e2a2fc05",
   "metadata": {},
   "outputs": [
    {
     "name": "stdout",
     "output_type": "stream",
     "text": [
      "{'name': 'dense_3', 'trainable': True, 'dtype': 'float32', 'units': 6, 'activation': 'softmax', 'use_bias': True, 'kernel_initializer': {'module': 'keras.initializers', 'class_name': 'VarianceScaling', 'config': {'scale': 1.0, 'mode': 'fan_avg', 'distribution': 'uniform', 'seed': None}, 'registered_name': None}, 'bias_initializer': {'module': 'keras.initializers', 'class_name': 'Zeros', 'config': {}, 'registered_name': None}, 'kernel_regularizer': None, 'bias_regularizer': None, 'activity_regularizer': None, 'kernel_constraint': None, 'bias_constraint': None}\n"
     ]
    }
   ],
   "source": [
    "layer_config = semi_layers.get_config()\n",
    "print(layer_config)"
   ]
  },
  {
   "cell_type": "code",
   "execution_count": 8,
   "id": "ec2fb2e4",
   "metadata": {},
   "outputs": [],
   "source": [
    "model = Sequential()\n",
    "model.add(first_layers)\n",
    "model.add(second_layers)\n",
    "model.add(tri_layers)\n",
    "model.add(chet_layers)\n",
    "model.add(pyat_layers)\n",
    "model.add(shect_layers)\n",
    "model.add(tf.keras.layers.Dense(2, activation = 'softmax'))"
   ]
  },
  {
   "cell_type": "code",
   "execution_count": 13,
   "id": "22ce9b74",
   "metadata": {},
   "outputs": [
    {
     "name": "stdout",
     "output_type": "stream",
     "text": [
      "Model: \"sequential_1\"\n",
      "_________________________________________________________________\n",
      " Layer (type)                Output Shape              Param #   \n",
      "=================================================================\n",
      " conv2d_1 (Conv2D)           (None, 89, 2, 128)        640       \n",
      "                                                                 \n",
      " max_pooling2d_1 (MaxPoolin  (None, 44, 1, 128)        0         \n",
      " g2D)                                                            \n",
      "                                                                 \n",
      " dropout_1 (Dropout)         (None, 44, 1, 128)        0         \n",
      "                                                                 \n",
      " flatten_1 (Flatten)         (None, 5632)              0         \n",
      "                                                                 \n",
      " dense_1 (Dense)             (None, 128)               721024    \n",
      "                                                                 \n",
      " dense_2 (Dense)             (None, 128)               16512     \n",
      "                                                                 \n",
      " dense (Dense)               (None, 2)                 258       \n",
      "                                                                 \n",
      "=================================================================\n",
      "Total params: 738434 (2.82 MB)\n",
      "Trainable params: 738434 (2.82 MB)\n",
      "Non-trainable params: 0 (0.00 Byte)\n",
      "_________________________________________________________________\n"
     ]
    }
   ],
   "source": [
    "model.summary()"
   ]
  },
  {
   "cell_type": "code",
   "execution_count": 9,
   "id": "c0dbbc67",
   "metadata": {},
   "outputs": [
    {
     "name": "stdout",
     "output_type": "stream",
     "text": [
      "WARNING:tensorflow:From a:\\Python\\new_anaconda\\Lib\\site-packages\\keras\\src\\optimizers\\__init__.py:309: The name tf.train.Optimizer is deprecated. Please use tf.compat.v1.train.Optimizer instead.\n",
      "\n",
      "Epoch 1/15\n",
      "WARNING:tensorflow:From a:\\Python\\new_anaconda\\Lib\\site-packages\\keras\\src\\utils\\tf_utils.py:492: The name tf.ragged.RaggedTensorValue is deprecated. Please use tf.compat.v1.ragged.RaggedTensorValue instead.\n",
      "\n",
      "WARNING:tensorflow:From a:\\Python\\new_anaconda\\Lib\\site-packages\\keras\\src\\engine\\base_layer_utils.py:384: The name tf.executing_eagerly_outside_functions is deprecated. Please use tf.compat.v1.executing_eagerly_outside_functions instead.\n",
      "\n",
      "10/10 [==============================] - 3s 66ms/step - loss: 5.5945 - accuracy: 0.6958 - val_loss: 2.3231 - val_accuracy: 0.7725\n",
      "Epoch 2/15\n",
      "10/10 [==============================] - 2s 47ms/step - loss: 1.8036 - accuracy: 0.7853 - val_loss: 1.1490 - val_accuracy: 0.8383\n",
      "Epoch 3/15\n",
      "10/10 [==============================] - 2s 48ms/step - loss: 1.2781 - accuracy: 0.8168 - val_loss: 0.6332 - val_accuracy: 0.8563\n",
      "Epoch 4/15\n",
      "10/10 [==============================] - 2s 49ms/step - loss: 0.7415 - accuracy: 0.8684 - val_loss: 0.7530 - val_accuracy: 0.8144\n",
      "Epoch 5/15\n",
      "10/10 [==============================] - 2s 49ms/step - loss: 0.6382 - accuracy: 0.8526 - val_loss: 0.4930 - val_accuracy: 0.8982\n",
      "Epoch 6/15\n",
      "10/10 [==============================] - 2s 47ms/step - loss: 0.5167 - accuracy: 0.8705 - val_loss: 0.3906 - val_accuracy: 0.8982\n",
      "Epoch 7/15\n",
      "10/10 [==============================] - 2s 48ms/step - loss: 0.4174 - accuracy: 0.9011 - val_loss: 0.3917 - val_accuracy: 0.8922\n",
      "Epoch 8/15\n",
      "10/10 [==============================] - 2s 48ms/step - loss: 0.3405 - accuracy: 0.9158 - val_loss: 0.3199 - val_accuracy: 0.9401\n",
      "Epoch 9/15\n",
      "10/10 [==============================] - 2s 47ms/step - loss: 0.3484 - accuracy: 0.8937 - val_loss: 0.3228 - val_accuracy: 0.9102\n",
      "Epoch 10/15\n",
      "10/10 [==============================] - 2s 49ms/step - loss: 0.2994 - accuracy: 0.9105 - val_loss: 0.3083 - val_accuracy: 0.9281\n",
      "Epoch 11/15\n",
      "10/10 [==============================] - 2s 52ms/step - loss: 0.2729 - accuracy: 0.9200 - val_loss: 0.3078 - val_accuracy: 0.9222\n",
      "Epoch 12/15\n",
      "10/10 [==============================] - 2s 51ms/step - loss: 0.2449 - accuracy: 0.9232 - val_loss: 0.2944 - val_accuracy: 0.9401\n",
      "Epoch 13/15\n",
      "10/10 [==============================] - 2s 53ms/step - loss: 0.2286 - accuracy: 0.9368 - val_loss: 0.3110 - val_accuracy: 0.9401\n",
      "Epoch 14/15\n",
      "10/10 [==============================] - 2s 51ms/step - loss: 0.2095 - accuracy: 0.9200 - val_loss: 0.3109 - val_accuracy: 0.9341\n",
      "Epoch 15/15\n",
      "10/10 [==============================] - 2s 47ms/step - loss: 0.2049 - accuracy: 0.9347 - val_loss: 0.3171 - val_accuracy: 0.9281\n"
     ]
    }
   ],
   "source": [
    "model.compile(loss='sparse_categorical_crossentropy',\n",
    "              optimizer=\"adam\",\n",
    "              metrics=['accuracy'])\n",
    "test_neuro = model.fit(data_train, validation_data = data_validation,\n",
    "                     epochs = 15, verbose = 1)"
   ]
  },
  {
   "cell_type": "code",
   "execution_count": 11,
   "id": "5c036ae7",
   "metadata": {},
   "outputs": [
    {
     "name": "stdout",
     "output_type": "stream",
     "text": [
      "WARNING:tensorflow:From a:\\Python\\new_anaconda\\Lib\\site-packages\\keras\\src\\backend.py:1398: The name tf.executing_eagerly_outside_functions is deprecated. Please use tf.compat.v1.executing_eagerly_outside_functions instead.\n",
      "\n",
      "WARNING:tensorflow:From a:\\Python\\new_anaconda\\Lib\\site-packages\\keras\\src\\layers\\pooling\\max_pooling2d.py:161: The name tf.nn.max_pool is deprecated. Please use tf.nn.max_pool2d instead.\n",
      "\n"
     ]
    }
   ],
   "source": [
    "NM_model.save('C:/Users/Артём/Desktop/Diplom/NMcard.h5')\n",
    "NM_load = tf.keras.models.load_model('C:/Users/Артём/Desktop/Diplom/NMcard.h5')"
   ]
  },
  {
   "cell_type": "code",
   "execution_count": 11,
   "id": "b1f85a77",
   "metadata": {},
   "outputs": [],
   "source": [
    "import tf2onnx"
   ]
  },
  {
   "cell_type": "code",
   "execution_count": 14,
   "id": "4640f0bb",
   "metadata": {},
   "outputs": [],
   "source": [
    "onnx__test_model, _ = tf2onnx.convert.from_keras(NM_load)\n",
    "tf2onnx.onnx.save_model(onnx__test_model, \"C:/Users/Артём/Desktop/Diplom/new_NM_model.onnx\")"
   ]
  },
  {
   "cell_type": "code",
   "execution_count": 6,
   "id": "c281f86b",
   "metadata": {},
   "outputs": [
    {
     "name": "stdout",
     "output_type": "stream",
     "text": [
      "2.15.0\n"
     ]
    }
   ],
   "source": [
    "import tensorflow as tf\n",
    "\n",
    "import tf2onnx\n",
    "print(tf.__version__)"
   ]
  },
  {
   "cell_type": "code",
   "execution_count": 10,
   "id": "584aa608",
   "metadata": {},
   "outputs": [],
   "source": [
    "class_name = data_train.class_names"
   ]
  },
  {
   "cell_type": "code",
   "execution_count": 15,
   "id": "36a572c3",
   "metadata": {},
   "outputs": [],
   "source": [
    "import time\n",
    "\n",
    "def proverka(path_image):\n",
    "    start_time = time.time() \n",
    "\n",
    "    image_test = path_image\n",
    "    img = tf.keras.utils.load_img(\n",
    "    image_test, target_size=(90, 3), color_mode = 'grayscale'\n",
    "    )\n",
    "    img_array = tf.keras.utils.img_to_array(img)\n",
    "    img_array = tf.expand_dims(img_array, 0)\n",
    "    #with tf.device('/GPU:0'):\n",
    "    predictions = NM_load.predict(img_array)\n",
    "    score = tf.nn.softmax(predictions[0])\n",
    "    end_time = time.time()\n",
    "    norm_time = end_time - start_time  \n",
    "    fps = 1 / norm_time\n",
    "\n",
    "    print(f\"Модель сделала предсказание за {norm_time:.2f} секунды.\")\n",
    "    print(f\"Скорость предиктирования модели: {fps:.2f} FPS\")"
   ]
  },
  {
   "cell_type": "code",
   "execution_count": 16,
   "id": "5d9a928b",
   "metadata": {},
   "outputs": [
    {
     "name": "stdout",
     "output_type": "stream",
     "text": [
      "1/1 [==============================] - 0s 20ms/step\n",
      "Модель сделала предсказание за 0.07 секунды.\n",
      "Скорость предиктирования модели: 13.37 FPS\n"
     ]
    }
   ],
   "source": [
    "path_image = \"C:/Users/Артём/Desktop/12345/output_spectogram/1.wav.png\"\n",
    "proverka(path_image)"
   ]
  },
  {
   "cell_type": "code",
   "execution_count": 15,
   "id": "7ce65a24",
   "metadata": {},
   "outputs": [],
   "source": [
    "import seaborn as sns\n",
    "import pandas as pd"
   ]
  },
  {
   "cell_type": "code",
   "execution_count": 46,
   "id": "a96fdcfa",
   "metadata": {},
   "outputs": [],
   "source": [
    "list_fps_name = [{\"name\":\"CPU i5 9600k\", \"fps\":\"14\"}, {\"name\":\"NM Сard Mini\", \"fps\":\"730\"}]\n",
    "data = pd.DataFrame(list_fps_name)\n",
    "data['name'] = data['name'].astype(str)\n",
    "data['fps'] = data['fps'].astype(int)"
   ]
  },
  {
   "cell_type": "code",
   "execution_count": 47,
   "id": "64e862ad",
   "metadata": {},
   "outputs": [
    {
     "data": {
      "text/plain": [
       "<Axes: xlabel='name', ylabel='fps'>"
      ]
     },
     "execution_count": 47,
     "metadata": {},
     "output_type": "execute_result"
    },
    {
     "data": {
      "image/png": "[encoded data removed]",
      "text/plain": [
       "<Figure size 640x480 with 1 Axes>"
      ]
     },
     "metadata": {},
     "output_type": "display_data"
    }
   ],
   "source": [
    "sns.barplot(x='name', y='fps', data=data)"
   ]
  },
  {
   "cell_type": "code",
   "execution_count": 75,
   "id": "d94a1112",
   "metadata": {},
   "outputs": [],
   "source": [
    "list_fps_price = ({\"name\":\"CPU\", \"kf(рублей)\":\"1428\"} ,{\"name\":\"Nm Card Mini\", \"kf(рублей)\":\"136\"})\n",
    "new_data = pd.DataFrame(list_fps_price)\n",
    "new_data['name'] = new_data['name'].astype(str)\n",
    "new_data['kf(рублей)'] = new_data['kf(рублей)'].astype(float)"
   ]
  },
  {
   "cell_type": "code",
   "execution_count": 76,
   "id": "ed7dbdec",
   "metadata": {},
   "outputs": [
    {
     "data": {
      "text/plain": [
       "<Axes: xlabel='name', ylabel='kf(рублей)'>"
      ]
     },
     "execution_count": 76,
     "metadata": {},
     "output_type": "execute_result"
    },
    {
     "data": {
      "image/png": "[encoded data removed]",
      "text/plain": [
       "<Figure size 640x480 with 1 Axes>"
      ]
     },
     "metadata": {},
     "output_type": "display_data"
    }
   ],
   "source": [
    "sns.barplot(x='name', y='kf(рублей)', data=new_data)"
   ]
  }
 ],
 "metadata": {
  "kernelspec": {
   "display_name": "Python 3 (ipykernel)",
   "language": "python",
   "name": "python3"
  },
  "language_info": {
   "codemirror_mode": {
    "name": "ipython",
    "version": 3
   },
   "file_extension": ".py",
   "mimetype": "text/x-python",
   "name": "python",
   "nbconvert_exporter": "python",
   "pygments_lexer": "ipython3",
   "version": "3.11.7"
  }
 },
 "nbformat": 4,
 "nbformat_minor": 5
}
